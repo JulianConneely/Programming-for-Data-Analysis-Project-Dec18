{
 "cells": [
  {
   "cell_type": "markdown",
   "metadata": {},
   "source": [
    "### Project December 2018 for Programming for Data Analysis"
   ]
  },
  {
   "cell_type": "markdown",
   "metadata": {},
   "source": [
    "#### Problem statement\n",
    "For this project you must create a data set by simulating a real-world phenomenon of\n",
    "your choosing. You may pick any phenomenon you wish – you might pick one that is\n",
    "of interest to you in your personal or professional life. Then, rather than collect data\n",
    "related to the phenomenon, you should model and synthesise such data using Python.\n",
    "We suggest you use the numpy.random package for this purpose.\n",
    "\n",
    "Specifically, in this project you should:\n",
    "- Choose a real-world phenomenon that can be measured and for which you could\n",
    "collect at least one-hundred data points across at least four different variables.\n",
    "- Investigate the types of variables involved, their likely distributions, and their\n",
    "relationships with each other.\n",
    "- Synthesise/simulate a data set as closely matching their properties as possible.\n",
    "- Detail your research and implement the simulation in a Jupyter notebook – the\n",
    "data set itself can simply be displayed in an output cell within the notebook.\n",
    "\n",
    "Note that this project is about simulation – you must synthesise a data set. Some\n",
    "students may already have some real-world data sets in their own files. It is okay to\n",
    "base your synthesised data set on these should you wish (please reference it if you do),\n",
    "but the main task in this project is to create a **synthesised data set**. "
   ]
  },
  {
   "cell_type": "markdown",
   "metadata": {},
   "source": [
    "#### Real-world phenomenon chosen\n",
    "The real-world phenomenon I have chosen is the life expectancy of people born in County Galway. \n",
    "Life Expectancy (LE) is one of my variables, the others being Sex (S); Smoker (SM); Education (E) and Exercise - minutes per day (M). On investigation I discovered that each of the variables listed has an impact on Life Expectancy."
   ]
  },
  {
   "cell_type": "markdown",
   "metadata": {},
   "source": [
    "The Sex (S) variable will be Yes/No and follow the Bernoulli distribution?\n",
    "The Smoker (SM) variable will be Yes/No and follow the Bernoulli distribution?\n",
    "The Exercise - minutes per day (M) variable will be non-negative real number with two decimal places.\n",
    "The Education level attained (E) will be a categorical variable with five possible values: none, secondary, bachelors, masters, or phd.\n",
    "\n",
    "non-negative real number with two decimal places, logins will be a non-zero integer and qual will be a categorical variable with four possible values: none, bachelors, masters, or phd. After some online research, I find that full-time post-graduate students study on average four hours per week with a standard deviation of a quarter of an hour and that a normal distribution is an acceptable model of such a variable."
   ]
  },
  {
   "cell_type": "markdown",
   "metadata": {},
   "source": [
    "I might pick the real-world phenomenon of the performance of students\n",
    "studying a ten-credit module. After some research, I decide that the most interesting\n",
    "variable related to this is the mark a student receives in the module - this is going to be\n",
    "one of my variables (grade).\n",
    "Upon investigation of the problem, I find that the number of hours on average a\n",
    "student studies per week (hours), the number of times they log onto Moodle in the\n",
    "first three weeks of term (logins), and their previous level of degree qualification (qual)\n",
    "are closely related to grade. The hours and grade variables will be non-negative real\n",
    "number with two decimal places, logins will be a non-zero integer and qual will be a\n",
    "categorical variable with four possible values: none, bachelors, masters, or phd.\n",
    "After some online research, I find that full-time post-graduate students study on average\n",
    "four hours per week with a standard deviation of a quarter of an hour and that\n",
    "a normal distribution is an acceptable model of such a variable. Likewise, I investigate\n",
    "the other four variables, and I also look at the relationships between the variables. I\n",
    "devise an algorithm (or method) to generate such a data set, simulating values of the\n",
    "four variables for two-hundred students. I detail all this work in my notebook, and then\n",
    "I add some code in to generate a data set with those properties."
   ]
  },
  {
   "cell_type": "code",
   "execution_count": null,
   "metadata": {},
   "outputs": [],
   "source": []
  }
 ],
 "metadata": {
  "kernelspec": {
   "display_name": "Python 3",
   "language": "python",
   "name": "python3"
  },
  "language_info": {
   "codemirror_mode": {
    "name": "ipython",
    "version": 3
   },
   "file_extension": ".py",
   "mimetype": "text/x-python",
   "name": "python",
   "nbconvert_exporter": "python",
   "pygments_lexer": "ipython3",
   "version": "3.6.4"
  }
 },
 "nbformat": 4,
 "nbformat_minor": 2
}
